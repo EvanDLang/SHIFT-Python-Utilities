{
 "cells": [
  {
   "cell_type": "code",
   "execution_count": 1,
   "id": "2d8751ac-2d5a-42c4-aa75-600687aec594",
   "metadata": {},
   "outputs": [
    {
     "data": {
      "text/plain": [
       "<AxesSubplot:>"
      ]
     },
     "execution_count": 1,
     "metadata": {},
     "output_type": "execute_result"
    },
    {
     "data": {
      "image/png": "[encoded data removed]",
      "text/plain": [
       "<Figure size 432x288 with 1 Axes>"
      ]
     },
     "metadata": {
      "needs_background": "light"
     },
     "output_type": "display_data"
    }
   ],
   "source": [
    "# Read in shapefile and plot to prove successful\n",
    "import geopandas as gpd\n",
    "shp_path = \"/efs/Shapefiles/Buoy_100m_offset/Buoy_100m.shp\"\n",
    "Mendota_100m=gpd.read_file(shp_path)\n",
    "Mendota_100m.plot()"
   ]
  },
  {
   "cell_type": "code",
   "execution_count": 16,
   "id": "6704d925-9f6f-4a5a-b8a5-d784227f1c17",
   "metadata": {},
   "outputs": [
    {
     "data": {
      "text/plain": [
       "osgeo.gdal.Dataset"
      ]
     },
     "execution_count": 16,
     "metadata": {},
     "output_type": "execute_result"
    }
   ],
   "source": [
    "# Read in processed DESIS image to check file format\n",
    "img_path = \"/efs/DESIS/L2R/DESIS_HSI_002_2020_06_02_20_11_33_L2R.nc\"\n",
    "img = gdal.Open(img_path)\n",
    "type(img)"
   ]
  },
  {
   "cell_type": "code",
   "execution_count": 7,
   "id": "60b03899-5abc-46bb-8290-243a5a884209",
   "metadata": {},
   "outputs": [],
   "source": [
    "#import packages/modules\n",
    "import tarfile\n",
    "import xarray as xr\n",
    "import json\n",
    "import math\n",
    "import affine\n",
    "import os as os\n",
    "import pandas as pd\n",
    "import numpy as np\n",
    "import matplotlib.pyplot as plt\n",
    "import matplotlib.gridspec as gridspec\n",
    "from osgeo import gdal,ogr,osr"
   ]
  },
  {
   "cell_type": "code",
   "execution_count": 9,
   "id": "43ff11ae-122e-4458-85e0-ce1eaf223ccb",
   "metadata": {},
   "outputs": [],
   "source": [
    "# Read in clipped AVIRIS image\n",
    "img_path = \"/efs/AVIRIS_processed/ang20160822t192414_rfl_v1n2_img_clipped\"\n",
    "img = gdal.Open(img_path)"
   ]
  },
  {
   "cell_type": "code",
   "execution_count": 10,
   "id": "049cbdf4-3f5f-4039-9efb-1c5a0a082c96",
   "metadata": {},
   "outputs": [
    {
     "data": {
      "text/html": [
       "<div>\n",
       "<style scoped>\n",
       "    .dataframe tbody tr th:only-of-type {\n",
       "        vertical-align: middle;\n",
       "    }\n",
       "\n",
       "    .dataframe tbody tr th {\n",
       "        vertical-align: top;\n",
       "    }\n",
       "\n",
       "    .dataframe thead th {\n",
       "        text-align: right;\n",
       "    }\n",
       "</style>\n",
       "<table border=\"1\" class=\"dataframe\">\n",
       "  <thead>\n",
       "    <tr style=\"text-align: right;\">\n",
       "      <th></th>\n",
       "      <th>Band number</th>\n",
       "      <th>Band center (nm)</th>\n",
       "      <th>EM region</th>\n",
       "    </tr>\n",
       "  </thead>\n",
       "  <tbody>\n",
       "    <tr>\n",
       "      <th>1</th>\n",
       "      <td>1</td>\n",
       "      <td>376.44</td>\n",
       "      <td>visible-violet</td>\n",
       "    </tr>\n",
       "    <tr>\n",
       "      <th>2</th>\n",
       "      <td>2</td>\n",
       "      <td>381.45</td>\n",
       "      <td>visible-violet</td>\n",
       "    </tr>\n",
       "    <tr>\n",
       "      <th>3</th>\n",
       "      <td>3</td>\n",
       "      <td>386.46</td>\n",
       "      <td>visible-violet</td>\n",
       "    </tr>\n",
       "    <tr>\n",
       "      <th>4</th>\n",
       "      <td>4</td>\n",
       "      <td>391.47</td>\n",
       "      <td>visible-violet</td>\n",
       "    </tr>\n",
       "    <tr>\n",
       "      <th>5</th>\n",
       "      <td>5</td>\n",
       "      <td>396.47</td>\n",
       "      <td>visible-violet</td>\n",
       "    </tr>\n",
       "    <tr>\n",
       "      <th>6</th>\n",
       "      <td>6</td>\n",
       "      <td>401.48</td>\n",
       "      <td>visible-violet</td>\n",
       "    </tr>\n",
       "    <tr>\n",
       "      <th>7</th>\n",
       "      <td>7</td>\n",
       "      <td>406.49</td>\n",
       "      <td>visible-violet</td>\n",
       "    </tr>\n",
       "    <tr>\n",
       "      <th>8</th>\n",
       "      <td>8</td>\n",
       "      <td>411.50</td>\n",
       "      <td>visible-violet</td>\n",
       "    </tr>\n",
       "    <tr>\n",
       "      <th>9</th>\n",
       "      <td>9</td>\n",
       "      <td>416.51</td>\n",
       "      <td>visible-violet</td>\n",
       "    </tr>\n",
       "    <tr>\n",
       "      <th>10</th>\n",
       "      <td>10</td>\n",
       "      <td>421.52</td>\n",
       "      <td>visible-violet</td>\n",
       "    </tr>\n",
       "  </tbody>\n",
       "</table>\n",
       "</div>"
      ],
      "text/plain": [
       "    Band number  Band center (nm)       EM region\n",
       "1             1            376.44  visible-violet\n",
       "2             2            381.45  visible-violet\n",
       "3             3            386.46  visible-violet\n",
       "4             4            391.47  visible-violet\n",
       "5             5            396.47  visible-violet\n",
       "6             6            401.48  visible-violet\n",
       "7             7            406.49  visible-violet\n",
       "8             8            411.50  visible-violet\n",
       "9             9            416.51  visible-violet\n",
       "10           10            421.52  visible-violet"
      ]
     },
     "execution_count": 10,
     "metadata": {},
     "output_type": "execute_result"
    }
   ],
   "source": [
    "# Define bands\n",
    "# band descriptions. we reference this dictionary throughout the tutorial.\n",
    "band_dictionary = {\n",
    "    \"visible-violet\": {'lower': 375, 'upper': 450, 'color': 'violet'},\n",
    "    \"visible-blue\": {'lower': 450, 'upper': 485, 'color': 'blue'},\n",
    "    \"visible-cyan\": {'lower': 485, 'upper': 500, 'color': 'cyan'},\n",
    "    \"visible-green\": {'lower': 500, 'upper': 565, 'color': 'green'},\n",
    "    \"visible-yellow\": {'lower': 565, 'upper': 590, 'color': 'yellow'},\n",
    "    \"visible-orange\": {'lower': 590, 'upper': 625, 'color': 'orange'},\n",
    "    \"visible-red\": {'lower': 625, 'upper': 740, 'color': 'red'},\n",
    "    \"near-infrared\": {'lower': 740, 'upper': 1100, 'color': 'gray'},\n",
    "    \"shortwave-infrared\": {'lower': 1100, 'upper': 2500, 'color': 'white'}\n",
    "}\n",
    "\n",
    "# function to classify bands\n",
    "between = lambda wavelength, region: region['lower'] < wavelength <= region['upper']\n",
    "def classifier(band):\n",
    "    for region, limits in band_dictionary.items():\n",
    "        if between(band, limits):\n",
    "            return(region)\n",
    "\n",
    "# lists of band numbers, band centers, and em classes\n",
    "band_numbers = [int(b.split(\"_\")[1]) for b in img.GetMetadata().keys() if b != \"wavelength_units\"]\n",
    "band_centers = [float(b.split(\" \")[0]) for b in img.GetMetadata().values() if b != \"Nanometers\"]\n",
    "em_regions = [classifier(b) for b in band_centers]\n",
    "\n",
    "# data frame describing bands\n",
    "bands = pd.DataFrame({ \n",
    "    \"Band number\": band_numbers, \n",
    "    \"Band center (nm)\": band_centers, \n",
    "    \"EM region\": em_regions }, index = band_numbers).sort_index()\n",
    "\n",
    "# print the first ten rows\n",
    "bands.head(10)"
   ]
  },
  {
   "cell_type": "code",
   "execution_count": 12,
   "id": "3abcee48-6549-4feb-b521-b6c15cdb9372",
   "metadata": {},
   "outputs": [
    {
     "name": "stderr",
     "output_type": "stream",
     "text": [
      "/tmp/ipykernel_997/3291364134.py:22: RuntimeWarning: divide by zero encountered in true_divide\n",
      "  scale8bit = lambda a: ((a - a.min()) * (1/(a.max() - a.min()) * 255)).astype('uint8')\n",
      "/tmp/ipykernel_997/3291364134.py:22: RuntimeWarning: invalid value encountered in multiply\n",
      "  scale8bit = lambda a: ((a - a.min()) * (1/(a.max() - a.min()) * 255)).astype('uint8')\n"
     ]
    }
   ],
   "source": [
    "# Extract red, green, and blue bands\n",
    "# function finds band in our table with wavelength nearest to input r,g,b wavelengths\n",
    "get_band_number = lambda w: bands.iloc[(bands[\"Band center (nm)\"]-w).abs().argsort()[1]]\n",
    "\n",
    "# get band numbers. use R: 667.5nm, G: 540nm, B: 470nm\n",
    "Ri, Gi, Bi = get_band_number(667.5), get_band_number(540), get_band_number(470)\n",
    "\n",
    "# function gets numpy array from input band\n",
    "get_band = lambda b: img.GetRasterBand(int(b[\"Band number\"])).ReadAsArray()\n",
    "\n",
    "# get r,g,b arrays\n",
    "Ra, Ga, Ba = get_band(Ri), get_band(Gi), get_band(Bi)\n",
    "\n",
    "# set fill values (-9999.) to 0 for each array\n",
    "Ra[Ra == -9999.], Ga[Ga == -9999.], Ba[Ba == -9999.] = 0, 0, 0\n",
    "\n",
    "#Because we had to force gdal to read the file by not checking data, there are nan values in the matrix.\n",
    "#Replace these with 0 as well\n",
    "Ra[np.isnan(Ra)], Ga[np.isnan(Ga)], Ba[np.isnan(Ba)] = 0, 0, 0\n",
    "\n",
    "# function scales reflectance values to 8bits\n",
    "scale8bit = lambda a: ((a - a.min()) * (1/(a.max() - a.min()) * 255)).astype('uint8')\n",
    "\n",
    "# get 8bit arrays for each band\n",
    "Ra8, Ga8, Ba8 = scale8bit(Ra), scale8bit(Ga), scale8bit(Ba)\n",
    "\n",
    "# set rescaled fill pixels back to 0 for each array\n",
    "Ra8[Ra == 0], Ga8[Ga == 0], Ba8[Ba == 0] = 0, 0, 0\n",
    "\n",
    "# make rgb stack\n",
    "nbands = img.RasterCount\n",
    "nrows = img.RasterYSize\n",
    "ncols = img.RasterXSize\n",
    "rgb_stack = np.zeros((nrows,ncols,3),'uint8')\n",
    "rgb_stack[...,0], rgb_stack[...,1], rgb_stack[...,2] = Ra8, Ga8, Ba8"
   ]
  },
  {
   "cell_type": "code",
   "execution_count": 14,
   "id": "b5ab630d-f45a-4873-ad45-2eae2157d40a",
   "metadata": {},
   "outputs": [
    {
     "data": {
      "text/plain": [
       "<matplotlib.image.AxesImage at 0x7ff23c9d0280>"
      ]
     },
     "execution_count": 14,
     "metadata": {},
     "output_type": "execute_result"
    },
    {
     "data": {
      "image/png": "[encoded data removed]",
      "text/plain": [
       "<Figure size 1440x1440 with 4 Axes>"
      ]
     },
     "metadata": {
      "needs_background": "light"
     },
     "output_type": "display_data"
    }
   ],
   "source": [
    "# Plot RGB individual images and RBG image stack\n",
    "plt.rcParams['figure.figsize'] = [20, 20]\n",
    "gs = gridspec.GridSpec(1, 4)\n",
    "\n",
    "plotdict = { 'Red': { 'subplot': 0, 'array': Ra8, 'colormap': 'Reds_r' },\n",
    "             'Green': { 'subplot': 1, 'array': Ga8, 'colormap': 'Greens_r' },\n",
    "             'Blue': { 'subplot': 2, 'array': Ba8, 'colormap': 'Blues_r' },\n",
    "             'RGB': { 'subplot': 3, 'array': rgb_stack, 'colormap': None } }\n",
    "\n",
    "# initialize plot and add ax element for each array in plotdict\n",
    "xmin, xres, xrot, ymax, yrot, yres = img.GetGeoTransform()\n",
    "fig1 = plt.figure()\n",
    "for band,data in plotdict.items():\n",
    "    clim = None if band == \"RGB\" else (0,255)\n",
    "    ax = fig1.add_subplot(gs[ 0, data['subplot'] ])\n",
    "    p = ax.imshow(data['array'], cmap=data['colormap'], clim=clim,\n",
    "                  extent=[xmin,xmin+ncols*xres,ymax,ymax+nrows*yres])\n",
    "    #ax.set_title(band, pad = 20, fontdict = titlefont)  \n",
    "    \n",
    "plt.imshow(rgb_stack, extent=[xmin,xmin+ncols*xres,ymax,ymax+nrows*yres])"
   ]
  }
 ],
 "metadata": {
  "kernelspec": {
   "display_name": "Python 3 (ipykernel)",
   "language": "python",
   "name": "python3"
  },
  "language_info": {
   "codemirror_mode": {
    "name": "ipython",
    "version": 3
   },
   "file_extension": ".py",
   "mimetype": "text/x-python",
   "name": "python",
   "nbconvert_exporter": "python",
   "pygments_lexer": "ipython3",
   "version": "3.9.13"
  }
 },
 "nbformat": 4,
 "nbformat_minor": 5
}
